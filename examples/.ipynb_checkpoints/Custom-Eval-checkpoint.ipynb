{
 "cells": [
  {
   "cell_type": "code",
   "execution_count": null,
   "id": "dc4c80cc",
   "metadata": {},
   "outputs": [],
   "source": [
    "# Run summary generation on data loaded from file\n",
    "\n",
    "from torchseq.utils.model_loader import model_from_path\n",
    "from torchseq.metric_hooks.hrq_agg import HRQAggregationMetricHook\n",
    "import jsonlines\n",
    "\n",
    "model_slug = 'hercules_space'\n",
    "\n",
    "instance = model_from_path('../models/' + model_slug, output_path='../runs/', data_path='../data/', silent=True)\n",
    "\n",
    "with jsonlines.open('../data/opagg/space-eval-split/test.jsonl') as reader:\n",
    "    eval_rows = [row for row in reader]\n",
    "\n",
    "\n",
    "scores, res = HRQAggregationMetricHook.eval_generate_summaries_and_score(instance.config, instance, test=True, eval_data=eval_rows)\n",
    "\n",
    "\n",
    "print(\"Model {:}: Abstractive R2 = {:0.2f}, Extractive R2 = {:0.2f}\".format(model_slug, scores['abstractive']['rouge2'], scores['extractive']['rouge2']))"
   ]
  }
 ],
 "metadata": {
  "kernelspec": {
   "display_name": "Python 3",
   "language": "python",
   "name": "python3"
  },
  "language_info": {
   "codemirror_mode": {
    "name": "ipython",
    "version": 3
   },
   "file_extension": ".py",
   "mimetype": "text/x-python",
   "name": "python",
   "nbconvert_exporter": "python",
   "pygments_lexer": "ipython3",
   "version": "3.9.13"
  }
 },
 "nbformat": 4,
 "nbformat_minor": 5
}
