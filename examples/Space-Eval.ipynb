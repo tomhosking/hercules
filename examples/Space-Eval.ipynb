{
 "cells": [
  {
   "cell_type": "code",
   "execution_count": 2,
   "id": "eac20173",
   "metadata": {},
   "outputs": [
    {
     "name": "stderr",
     "output_type": "stream",
     "text": [
      "/mnt/ext/phd/research/torchseq/aqenv/lib/python3.9/site-packages/torch/nn/functional.py:4999: UserWarning: Support for mismatched src_key_padding_mask and src_mask is deprecated. Use same type for both instead.\n",
      "  warnings.warn(\n",
      "/mnt/ext/phd/research/torchseq/aqenv/lib/python3.9/site-packages/torch/nn/modules/transformer.py:544: UserWarning: Converting mask without torch.bool dtype to bool; this will negatively affect performance. Prefer to use a boolean mask directly. (Triggered internally at ../aten/src/ATen/native/transformers/attention.cpp:150.)\n",
      "  return torch._transformer_encoder_layer_fwd(\n",
      "/mnt/ext/phd/research/torchseq/aqenv/lib/python3.9/site-packages/torch/nn/modules/activation.py:1144: UserWarning: Converting mask without torch.bool dtype to bool; this will negatively affect performance. Prefer to use a boolean mask directly. (Triggered internally at ../aten/src/ATen/native/transformers/attention.cpp:150.)\n",
      "  return torch._native_multi_head_attention(\n"
     ]
    },
    {
     "name": "stdout",
     "output_type": "stream",
     "text": [
      "Model hercules_space: Abstractive R2 = 14.76, Extractive R2 = 13.15\n"
     ]
    }
   ],
   "source": [
    "# Reproduce the numbers from the paper\n",
    "\n",
    "from torchseq.utils.model_loader import model_from_path\n",
    "from torchseq.metric_hooks.hrq_agg import HRQAggregationMetricHook\n",
    "\n",
    "model_slug = 'hercules_space'\n",
    "\n",
    "instance = model_from_path('../models/' + model_slug, output_path='../runs/', data_path='../data/', silent=True)\n",
    "\n",
    "\n",
    "scores, res = HRQAggregationMetricHook.eval_generate_summaries_and_score(instance.config, instance, test=True)\n",
    "\n",
    "\n",
    "print(\"Model {:}: Abstractive R2 = {:0.2f}, Extractive R2 = {:0.2f}\".format(model_slug, scores['abstractive']['rouge2'], scores['extractive']['rouge2']))"
   ]
  },
  {
   "cell_type": "code",
   "execution_count": null,
   "id": "cbe0da8a",
   "metadata": {},
   "outputs": [],
   "source": []
  }
 ],
 "metadata": {
  "kernelspec": {
   "display_name": "Python 3",
   "language": "python",
   "name": "python3"
  },
  "language_info": {
   "codemirror_mode": {
    "name": "ipython",
    "version": 3
   },
   "file_extension": ".py",
   "mimetype": "text/x-python",
   "name": "python",
   "nbconvert_exporter": "python",
   "pygments_lexer": "ipython3",
   "version": "3.9.13"
  }
 },
 "nbformat": 4,
 "nbformat_minor": 5
}
