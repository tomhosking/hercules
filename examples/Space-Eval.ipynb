{
 "cells": [
  {
   "cell_type": "code",
   "execution_count": null,
   "id": "dc5ff4e1",
   "metadata": {},
   "outputs": [],
   "source": [
    "# Reproduce the numbers from the paper\n",
    "\n",
    "from torchseq.utils.model_loader import model_from_path\n",
    "from torchseq.metric_hooks.hrq_agg import HRQAggregationMetricHook\n",
    "\n",
    "model_slug = 'hercules_space'\n",
    "\n",
    "instance = model_from_path('./models/' + model_slug, output_path='./runs/', data_path='./data/', silent=True)\n",
    "\n",
    "\n",
    "scores, res = HRQAggregationMetricHook.eval_generate_summaries_and_score(instance.config, instance, test=True)\n",
    "\n",
    "\n",
    "print(\"Model {:}: Abstractive R2 = {:0.2f}, Extractive R2 = {:0.2f}\".format(model_slug, scores['abstractive']['rouge2'], scores['extractive']['rouge2']))"
   ]
  },
  {
   "cell_type": "code",
   "execution_count": null,
   "id": "221f523f",
   "metadata": {},
   "outputs": [],
   "source": []
  }
 ],
 "metadata": {
  "kernelspec": {
   "display_name": "Python 3",
   "language": "python",
   "name": "python3"
  },
  "language_info": {
   "codemirror_mode": {
    "name": "ipython",
    "version": 3
   },
   "file_extension": ".py",
   "mimetype": "text/x-python",
   "name": "python",
   "nbconvert_exporter": "python",
   "pygments_lexer": "ipython3",
   "version": "3.9.13"
  }
 },
 "nbformat": 4,
 "nbformat_minor": 5
}
